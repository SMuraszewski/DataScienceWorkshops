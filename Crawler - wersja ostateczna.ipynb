{
 "cells": [
  {
   "cell_type": "code",
   "execution_count": 1,
   "metadata": {},
   "outputs": [],
   "source": [
    "import scrapy\n",
    "from scrapy.crawler import CrawlerProcess\n",
    "\n",
    "class GumtreeApartmentsSpider(scrapy.Spider):\n",
    "    name = 'gumtreeapartmentsspider'\n",
    "\n",
    "    start_urls = ['https://www.gumtree.pl/a-mieszkania-i-domy-sprzedam-i-kupie/szczecin/mieszkanie-szczecin-centrum-56-4m2-nr-758464/1004528334350910460412309',]\n",
    "    found_apartments = []\n",
    "\n",
    "    def parse(self, response):\n",
    "        for apartment in response.xpath('//div[contains(@class, \"vip-title clearfix\")]'):\n",
    "            apartment_details = dict()\n",
    "            apartment_details['title'] = apartment.xpath('h1[@class=\"item-title\"]/span[@class=\"myAdTitle\"]/text()').get()\n",
    "            apartment_details['price'] = apartment.xpath('div[@class=\"price\"]/span[@class=\"value\"]/span[@class=\"amount\"]/text()').get()\n",
    "            apartment_details['price'] = apartment_details['price'].replace(\"\\xa0\",\" \")\n",
    "            self.found_apartments.append(apartment_details)"
   ]
  },
  {
   "cell_type": "code",
   "execution_count": 2,
   "metadata": {},
   "outputs": [
    {
     "name": "stdout",
     "output_type": "stream",
     "text": [
      "{'title': 'Mieszkanie Szczecin Centrum 56.4m2 (nr: 758464)', 'price': '359 000 zł'}\n"
     ]
    }
   ],
   "source": [
    "process = CrawlerProcess({ 'LOG_LEVEL': 'ERROR'})\n",
    "process.crawl(GumtreeApartmentsSpider)\n",
    "spider = next(iter(process.crawlers)).spider\n",
    "process.start()\n",
    "\n",
    "for apartment in spider.found_apartments: \n",
    "    print(apartment)"
   ]
  },
  {
   "cell_type": "code",
   "execution_count": null,
   "metadata": {},
   "outputs": [],
   "source": []
  }
 ],
 "metadata": {
  "kernelspec": {
   "display_name": "Python 3",
   "language": "python",
   "name": "python3"
  },
  "language_info": {
   "codemirror_mode": {
    "name": "ipython",
    "version": 3
   },
   "file_extension": ".py",
   "mimetype": "text/x-python",
   "name": "python",
   "nbconvert_exporter": "python",
   "pygments_lexer": "ipython3",
   "version": "3.6.7"
  }
 },
 "nbformat": 4,
 "nbformat_minor": 2
}
