{
 "cells": [
  {
   "cell_type": "code",
   "execution_count": 1,
   "metadata": {},
   "outputs": [],
   "source": [
    "import scrapy\n",
    "import scrapy.crawler as crawler\n",
    "from bs4 import BeautifulSoup\n",
    "\n",
    "from scrapy.crawler import CrawlerProcess\n",
    "\n",
    "class GumtreeApartmentsSpider(scrapy.Spider):\n",
    "    name = 'gumtreeapartmentsspider'\n",
    "    start_urls = [\n",
    "        'https://www.gumtree.pl/s-mieszkania-i-domy-sprzedam-i-kupie/mazowieckie/v1c9073l3200001p1'\n",
    "        ]\n",
    "    found_apartments = []\n",
    "   \n",
    "    custom_settings = {\n",
    "        'DOWNLOAD_DELAY': '4.0', #obejście Fail2Ban\n",
    "    }\n",
    "\n",
    "    top_url = 'https://www.gumtree.pl'\n",
    "    def parse(self, response):\n",
    "        self.logger.info('Got successful response from {}'.format(response.url))\n",
    "        soup = BeautifulSoup(response.body, 'lxml')\n",
    "        link_tabs = soup.findAll(\"div\", {\"class\": \"result-link\"})\n",
    "        item_urls = []\n",
    "        next_urls = []\n",
    "        for tab in link_tabs:\n",
    "            hrefs = tab.findAll(\"a\", {\"class\": \"href-link\"})\n",
    "            for h in hrefs:\n",
    "                item_urls.append(self.top_url + h[\"href\"]) #dopisuje 'https://www.gumtree.pl', bo otrzymany adres jest względny, przygotowuje listę wszystkich linków\n",
    "            \n",
    "        nexts = soup.findAll(\"a\", {\"class\": \"next\"})\n",
    "        \n",
    "        for h in nexts:\n",
    "            for h in hrefs:\n",
    "                next_urls.append(self.top_url + h[\"href\"])\n",
    "        \n",
    "        print (next_urls)\n",
    "            \n",
    "        for item_url in item_urls:\n",
    "            yield scrapy.Request(item_url, self.parse_item)\n",
    "\n",
    "        for next_url in next_urls: #odwiedzanie następnych stron z linkami\n",
    "            yield scrapy.Request(item_url, self.parse)\n",
    "        \n",
    "        \n",
    "    def parse_item(self, response): #item_url - odwiedzanie strony, #self.parse_item - przetworzenie przy pomocy funkcji\n",
    "        self.logger.info('Got successful response from {}'.format(response.url))\n",
    "        found_apartments = []\n",
    "        soup = BeautifulSoup(response.text, 'html.parser') \n",
    "        apartments = soup.find('div', {'class': 'vip-header-and-details'})\n",
    "        apartment_details = dict()\n",
    "        apartment_details['Nazwa ogłoszenia'] = apartments.find('span', class_ = 'myAdTitle').text\n",
    "        apartment_details['Cena'] = apartments.find('span', class_ = 'amount').text.replace(\"\\xa0\",\" \") #replace w celu usunięcia twardej spacji\n",
    "        container = soup.find('ul', class_ = 'selMenu') #zebranie informacji z ramki do kontenera\n",
    "        \n",
    "        nazwy = container.findAll('span', class_ = 'name')\n",
    "        szczegoly = container.findAll('span', class_ = 'value')\n",
    "        apartment_details.update({name.text: value.text.strip() for name, value in zip(nazwy, szczegoly)}) #dodawanie elementów z ramki do listy i usunięcie whitespace'ów\n",
    "        \n",
    "        yield found_apartments.append(apartment_details)\n",
    "        print(found_apartments)"
   ]
  },
  {
   "cell_type": "code",
   "execution_count": null,
   "metadata": {},
   "outputs": [
    {
     "name": "stderr",
     "output_type": "stream",
     "text": [
      "2019-04-12 15:34:02 [scrapy.utils.log] INFO: Scrapy 1.6.0 started (bot: scrapybot)\n",
      "2019-04-12 15:34:02 [scrapy.utils.log] INFO: Versions: lxml 4.3.2.0, libxml2 2.9.9, cssselect 1.0.3, parsel 1.5.1, w3lib 1.20.0, Twisted 17.9.0, Python 3.6.7 (default, Oct 22 2018, 11:32:17) - [GCC 8.2.0], pyOpenSSL 17.5.0 (OpenSSL 1.1.0g  2 Nov 2017), cryptography 2.1.4, Platform Linux-4.4.0-17134-Microsoft-x86_64-with-Ubuntu-18.04-bionic\n",
      "2019-04-12 15:34:02 [scrapy.crawler] INFO: Overridden settings: {'DOWNLOAD_DELAY': '4.0', 'USER_AGENT': 'Mozilla/4.0 (compatible; MSIE 7.0; Windows NT 5.1)'}\n",
      "2019-04-12 15:34:02 [scrapy.extensions.telnet] INFO: Telnet Password: 18ea3128621ec6c4\n",
      "2019-04-12 15:34:02 [scrapy.middleware] INFO: Enabled extensions:\n",
      "['scrapy.extensions.corestats.CoreStats',\n",
      " 'scrapy.extensions.telnet.TelnetConsole',\n",
      " 'scrapy.extensions.memusage.MemoryUsage',\n",
      " 'scrapy.extensions.logstats.LogStats']\n",
      "2019-04-12 15:34:02 [scrapy.middleware] INFO: Enabled downloader middlewares:\n",
      "['scrapy.downloadermiddlewares.httpauth.HttpAuthMiddleware',\n",
      " 'scrapy.downloadermiddlewares.downloadtimeout.DownloadTimeoutMiddleware',\n",
      " 'scrapy.downloadermiddlewares.defaultheaders.DefaultHeadersMiddleware',\n",
      " 'scrapy.downloadermiddlewares.useragent.UserAgentMiddleware',\n",
      " 'scrapy.downloadermiddlewares.retry.RetryMiddleware',\n",
      " 'scrapy.downloadermiddlewares.redirect.MetaRefreshMiddleware',\n",
      " 'scrapy.downloadermiddlewares.httpcompression.HttpCompressionMiddleware',\n",
      " 'scrapy.downloadermiddlewares.redirect.RedirectMiddleware',\n",
      " 'scrapy.downloadermiddlewares.cookies.CookiesMiddleware',\n",
      " 'scrapy.downloadermiddlewares.httpproxy.HttpProxyMiddleware',\n",
      " 'scrapy.downloadermiddlewares.stats.DownloaderStats']\n",
      "2019-04-12 15:34:02 [scrapy.middleware] INFO: Enabled spider middlewares:\n",
      "['scrapy.spidermiddlewares.httperror.HttpErrorMiddleware',\n",
      " 'scrapy.spidermiddlewares.offsite.OffsiteMiddleware',\n",
      " 'scrapy.spidermiddlewares.referer.RefererMiddleware',\n",
      " 'scrapy.spidermiddlewares.urllength.UrlLengthMiddleware',\n",
      " 'scrapy.spidermiddlewares.depth.DepthMiddleware']\n",
      "2019-04-12 15:34:02 [scrapy.middleware] INFO: Enabled item pipelines:\n",
      "[]\n",
      "2019-04-12 15:34:02 [scrapy.core.engine] INFO: Spider opened\n",
      "2019-04-12 15:34:02 [scrapy.extensions.logstats] INFO: Crawled 0 pages (at 0 pages/min), scraped 0 items (at 0 items/min)\n",
      "2019-04-12 15:34:02 [scrapy.extensions.telnet] INFO: Telnet console listening on 127.0.0.1:6023\n",
      "2019-04-12 15:34:03 [scrapy.core.engine] DEBUG: Crawled (200) <GET https://www.gumtree.pl/s-mieszkania-i-domy-sprzedam-i-kupie/mazowieckie/v1c9073l3200001p1> (referer: None)\n",
      "2019-04-12 15:34:03 [gumtreeapartmentsspider] INFO: Got successful response from https://www.gumtree.pl/s-mieszkania-i-domy-sprzedam-i-kupie/mazowieckie/v1c9073l3200001p1\n",
      "2019-04-12 15:34:03 [scrapy.dupefilters] DEBUG: Filtered duplicate request: <GET https://www.gumtree.pl/a-mieszkania-i-domy-sprzedam-i-kupie/mokotow/mieszkanie-+-warszawa-mokotow-sluzewiec-bukowinska/1004746848900911115501509> - no more duplicates will be shown (see DUPEFILTER_DEBUG to show all duplicates)\n"
     ]
    },
    {
     "name": "stdout",
     "output_type": "stream",
     "text": [
      "['https://www.gumtree.pl/a-mieszkania-i-domy-sprzedam-i-kupie/mokotow/mieszkanie-+-warszawa-mokotow-sluzewiec-bukowinska/1004746848900911115501509']\n"
     ]
    },
    {
     "name": "stderr",
     "output_type": "stream",
     "text": [
      "2019-04-12 15:34:08 [scrapy.core.engine] DEBUG: Crawled (200) <GET https://www.gumtree.pl/a-mieszkania-i-domy-sprzedam-i-kupie/mokotow/nowoczesny-apartament-na-gornym-mokotowie/1004703335820910564665709> (referer: https://www.gumtree.pl/s-mieszkania-i-domy-sprzedam-i-kupie/mazowieckie/v1c9073l3200001p1)\n",
      "2019-04-12 15:34:09 [gumtreeapartmentsspider] INFO: Got successful response from https://www.gumtree.pl/a-mieszkania-i-domy-sprzedam-i-kupie/mokotow/nowoczesny-apartament-na-gornym-mokotowie/1004703335820910564665709\n"
     ]
    },
    {
     "name": "stdout",
     "output_type": "stream",
     "text": [
      "[{'Nazwa ogłoszenia': 'Nowoczesny apartament na Górnym Mokotowie', 'Cena': '780 000 zł', 'Data dodania': '07/04/2019', 'Lokalizacja': 'Mokotów, \\n    \\n    \\n        Warszawa', 'Na sprzedaż przez': 'Właściciel', 'Rodzaj nieruchomości': 'Mieszkanie', 'Liczba pokoi': '2 pokoje', 'Liczba łazienek': '1 łazienka', 'Wielkość (m2)': '50', 'Parking': 'Garaż'}]\n"
     ]
    },
    {
     "name": "stderr",
     "output_type": "stream",
     "text": [
      "2019-04-12 15:34:14 [scrapy.core.engine] DEBUG: Crawled (200) <GET https://www.gumtree.pl/a-mieszkania-i-domy-sprzedam-i-kupie/mokotow/mieszkanie-+-warszawa-mokotow-sluzewiec-bukowinska/1004746848900911115501509> (referer: https://www.gumtree.pl/s-mieszkania-i-domy-sprzedam-i-kupie/mazowieckie/v1c9073l3200001p1)\n",
      "2019-04-12 15:34:14 [gumtreeapartmentsspider] INFO: Got successful response from https://www.gumtree.pl/a-mieszkania-i-domy-sprzedam-i-kupie/mokotow/mieszkanie-+-warszawa-mokotow-sluzewiec-bukowinska/1004746848900911115501509\n"
     ]
    },
    {
     "name": "stdout",
     "output_type": "stream",
     "text": [
      "[{'Nazwa ogłoszenia': 'Mieszkanie - Warszawa > Mokotów > Służewiec > Bukowińska', 'Cena': '1 089 000 zł', 'Data dodania': '12/04/2019', 'Lokalizacja': 'Mokotów, \\n    \\n    \\n        Warszawa', 'Na sprzedaż przez': 'Agencja', 'Rodzaj nieruchomości': 'Mieszkanie', 'Liczba pokoi': '3 pokoje', 'Wielkość (m2)': '76'}]\n"
     ]
    },
    {
     "name": "stderr",
     "output_type": "stream",
     "text": [
      "2019-04-12 15:34:20 [scrapy.core.engine] DEBUG: Crawled (200) <GET https://www.gumtree.pl/a-mieszkania-i-domy-sprzedam-i-kupie/wawer/okazja-na-sprzedaz-dzialka-zabudowana-domem-+-marysin-wawerski/1004373368950911807561609> (referer: https://www.gumtree.pl/s-mieszkania-i-domy-sprzedam-i-kupie/mazowieckie/v1c9073l3200001p1)\n",
      "2019-04-12 15:34:20 [gumtreeapartmentsspider] INFO: Got successful response from https://www.gumtree.pl/a-mieszkania-i-domy-sprzedam-i-kupie/wawer/okazja-na-sprzedaz-dzialka-zabudowana-domem-+-marysin-wawerski/1004373368950911807561609\n"
     ]
    },
    {
     "name": "stdout",
     "output_type": "stream",
     "text": [
      "[{'Nazwa ogłoszenia': 'Okazja ! Na sprzedaż działka zabudowana domem - Marysin Wawerski', 'Cena': '820 000 zł', 'Data dodania': '12/04/2019', 'Lokalizacja': 'Wawer, \\n    \\n    \\n        Warszawa', 'Na sprzedaż przez': 'Agencja', 'Rodzaj nieruchomości': 'Dom', 'Liczba pokoi': '6 lub więcej pokoi', 'Wielkość (m2)': '180', 'Parking': 'Garaż'}]\n"
     ]
    },
    {
     "name": "stderr",
     "output_type": "stream",
     "text": [
      "2019-04-12 15:34:25 [scrapy.core.engine] DEBUG: Crawled (200) <GET https://www.gumtree.pl/a-mieszkania-i-domy-sprzedam-i-kupie/mokotow/3-pok-103-m2-w-kamienicy-z-1936-r-stary-mokotow/1004747555470912106640109> (referer: https://www.gumtree.pl/s-mieszkania-i-domy-sprzedam-i-kupie/mazowieckie/v1c9073l3200001p1)\n",
      "2019-04-12 15:34:25 [gumtreeapartmentsspider] INFO: Got successful response from https://www.gumtree.pl/a-mieszkania-i-domy-sprzedam-i-kupie/mokotow/3-pok-103-m2-w-kamienicy-z-1936-r-stary-mokotow/1004747555470912106640109\n"
     ]
    },
    {
     "name": "stdout",
     "output_type": "stream",
     "text": [
      "[{'Nazwa ogłoszenia': '3 pok. 103 m2 w kamienicy z 1936 r. Stary Mokotów', 'Cena': '1 440 000 zł', 'Data dodania': '12/04/2019', 'Lokalizacja': 'Mokotów, \\n    \\n    \\n        Warszawa', 'Na sprzedaż przez': 'Agencja', 'Rodzaj nieruchomości': 'Mieszkanie', 'Liczba pokoi': '3 pokoje', 'Liczba łazienek': '1 łazienka', 'Wielkość (m2)': '103'}]\n"
     ]
    },
    {
     "name": "stderr",
     "output_type": "stream",
     "text": [
      "2019-04-12 15:34:31 [scrapy.core.engine] DEBUG: Crawled (200) <GET https://www.gumtree.pl/a-mieszkania-i-domy-sprzedam-i-kupie/wlochy/mieszkanie-+-warszawa-wlochy-stare-wlochy-zapustna/1004746955700911115501509> (referer: https://www.gumtree.pl/s-mieszkania-i-domy-sprzedam-i-kupie/mazowieckie/v1c9073l3200001p1)\n",
      "2019-04-12 15:34:31 [gumtreeapartmentsspider] INFO: Got successful response from https://www.gumtree.pl/a-mieszkania-i-domy-sprzedam-i-kupie/wlochy/mieszkanie-+-warszawa-wlochy-stare-wlochy-zapustna/1004746955700911115501509\n"
     ]
    },
    {
     "name": "stdout",
     "output_type": "stream",
     "text": [
      "[{'Nazwa ogłoszenia': 'Mieszkanie - Warszawa > Włochy > Stare Włochy > Zapustna', 'Cena': '578 000 zł', 'Data dodania': '12/04/2019', 'Lokalizacja': 'Włochy, \\n    \\n    \\n        Warszawa', 'Na sprzedaż przez': 'Agencja', 'Rodzaj nieruchomości': 'Mieszkanie', 'Liczba pokoi': '3 pokoje', 'Liczba łazienek': '1 łazienka', 'Wielkość (m2)': '68'}]\n"
     ]
    },
    {
     "name": "stderr",
     "output_type": "stream",
     "text": [
      "2019-04-12 15:34:37 [scrapy.core.engine] DEBUG: Crawled (200) <GET https://www.gumtree.pl/a-mieszkania-i-domy-sprzedam-i-kupie/serock/dom-serock-85m2-nr-989-4372-ods/1004747555480912106640109> (referer: https://www.gumtree.pl/s-mieszkania-i-domy-sprzedam-i-kupie/mazowieckie/v1c9073l3200001p1)\n",
      "2019-04-12 15:34:37 [gumtreeapartmentsspider] INFO: Got successful response from https://www.gumtree.pl/a-mieszkania-i-domy-sprzedam-i-kupie/serock/dom-serock-85m2-nr-989-4372-ods/1004747555480912106640109\n"
     ]
    },
    {
     "name": "stdout",
     "output_type": "stream",
     "text": [
      "[{'Nazwa ogłoszenia': 'Dom Serock 85m2 (nr: 989/4372/ODS)', 'Cena': '550 000 zł', 'Data dodania': '12/04/2019', 'Lokalizacja': 'Serock, \\n    \\n    \\n        Północne powiaty', 'Na sprzedaż przez': 'Agencja', 'Rodzaj nieruchomości': 'Dom', 'Liczba pokoi': '4 pokoje', 'Wielkość (m2)': '85'}]\n"
     ]
    },
    {
     "name": "stderr",
     "output_type": "stream",
     "text": [
      "2019-04-12 15:34:42 [scrapy.crawler] INFO: Received SIGINT, shutting down gracefully. Send again to force \n",
      "2019-04-12 15:34:42 [scrapy.core.engine] INFO: Closing spider (shutdown)\n",
      "2019-04-12 15:34:42 [scrapy.core.engine] DEBUG: Crawled (200) <GET https://www.gumtree.pl/a-mieszkania-i-domy-sprzedam-i-kupie/srodmiescie/mieszkanie-+-warszawa-srodmiescie-al-jana-pawla-ii/1004746967760911115501509> (referer: https://www.gumtree.pl/s-mieszkania-i-domy-sprzedam-i-kupie/mazowieckie/v1c9073l3200001p1)\n",
      "2019-04-12 15:34:42 [gumtreeapartmentsspider] INFO: Got successful response from https://www.gumtree.pl/a-mieszkania-i-domy-sprzedam-i-kupie/srodmiescie/mieszkanie-+-warszawa-srodmiescie-al-jana-pawla-ii/1004746967760911115501509\n"
     ]
    },
    {
     "name": "stdout",
     "output_type": "stream",
     "text": [
      "[{'Nazwa ogłoszenia': 'Mieszkanie - Warszawa > Śródmieście > al. Jana Pawła II', 'Cena': '450 000 zł', 'Data dodania': '12/04/2019', 'Lokalizacja': 'Śródmieście, \\n    \\n    \\n        Warszawa', 'Na sprzedaż przez': 'Agencja', 'Rodzaj nieruchomości': 'Mieszkanie', 'Liczba pokoi': '2 pokoje', 'Wielkość (m2)': '40'}]\n"
     ]
    },
    {
     "name": "stderr",
     "output_type": "stream",
     "text": [
      "2019-04-12 15:34:47 [scrapy.core.engine] DEBUG: Crawled (200) <GET https://www.gumtree.pl/a-mieszkania-i-domy-sprzedam-i-kupie/praga-poludnie/mieszkanie-+-warszawa-praga+poludnie-saska-kepa-al-stanow-zjednoczonych/1004746610990911115501509> (referer: https://www.gumtree.pl/s-mieszkania-i-domy-sprzedam-i-kupie/mazowieckie/v1c9073l3200001p1)\n",
      "2019-04-12 15:34:47 [gumtreeapartmentsspider] INFO: Got successful response from https://www.gumtree.pl/a-mieszkania-i-domy-sprzedam-i-kupie/praga-poludnie/mieszkanie-+-warszawa-praga+poludnie-saska-kepa-al-stanow-zjednoczonych/1004746610990911115501509\n"
     ]
    },
    {
     "name": "stdout",
     "output_type": "stream",
     "text": [
      "[{'Nazwa ogłoszenia': 'Mieszkanie - Warszawa > Praga-Południe > Saska Kępa > al. Stanów Zjednoczonych', 'Cena': '430 000 zł', 'Data dodania': '12/04/2019', 'Lokalizacja': 'Praga Południe, \\n    \\n    \\n        Warszawa', 'Na sprzedaż przez': 'Agencja', 'Rodzaj nieruchomości': 'Mieszkanie', 'Liczba pokoi': '2 pokoje', 'Liczba łazienek': '1 łazienka', 'Wielkość (m2)': '50'}]\n"
     ]
    },
    {
     "name": "stderr",
     "output_type": "stream",
     "text": [
      "2019-04-12 15:34:52 [scrapy.core.engine] DEBUG: Crawled (200) <GET https://www.gumtree.pl/a-mieszkania-i-domy-sprzedam-i-kupie/targowek/3-pokoje-na-tagowku-ul-turmoncka/1004747632120911378860309> (referer: https://www.gumtree.pl/s-mieszkania-i-domy-sprzedam-i-kupie/mazowieckie/v1c9073l3200001p1)\n",
      "2019-04-12 15:34:52 [gumtreeapartmentsspider] INFO: Got successful response from https://www.gumtree.pl/a-mieszkania-i-domy-sprzedam-i-kupie/targowek/3-pokoje-na-tagowku-ul-turmoncka/1004747632120911378860309\n"
     ]
    },
    {
     "name": "stdout",
     "output_type": "stream",
     "text": [
      "[{'Nazwa ogłoszenia': '3 pokoje na Tagówku ul. Turmoncka', 'Cena': '439 000 zł', 'Data dodania': '12/04/2019', 'Lokalizacja': 'Targówek, \\n    \\n    \\n        Warszawa', 'Na sprzedaż przez': 'Agencja', 'Rodzaj nieruchomości': 'Mieszkanie', 'Liczba pokoi': '3 pokoje', 'Liczba łazienek': '1 łazienka', 'Wielkość (m2)': '62'}]\n"
     ]
    }
   ],
   "source": [
    "process = CrawlerProcess({\n",
    "    'USER_AGENT': 'Mozilla/4.0 (compatible; MSIE 7.0; Windows NT 5.1)'\n",
    "})\n",
    "process.crawl(GumtreeApartmentsSpider)\n",
    "process.start()"
   ]
  },
  {
   "cell_type": "code",
   "execution_count": null,
   "metadata": {},
   "outputs": [],
   "source": []
  }
 ],
 "metadata": {
  "kernelspec": {
   "display_name": "Python 3",
   "language": "python",
   "name": "python3"
  },
  "language_info": {
   "codemirror_mode": {
    "name": "ipython",
    "version": 3
   },
   "file_extension": ".py",
   "mimetype": "text/x-python",
   "name": "python",
   "nbconvert_exporter": "python",
   "pygments_lexer": "ipython3",
   "version": "3.6.7"
  }
 },
 "nbformat": 4,
 "nbformat_minor": 2
}
