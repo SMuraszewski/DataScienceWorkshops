{
 "cells": [
  {
   "cell_type": "markdown",
   "metadata": {},
   "source": [
    "# Generatory, Yield"
   ]
  },
  {
   "cell_type": "code",
   "execution_count": 1,
   "metadata": {},
   "outputs": [
    {
     "name": "stdout",
     "output_type": "stream",
     "text": [
      "0\n",
      "1\n",
      "4\n"
     ]
    }
   ],
   "source": [
    "mylist = [0, 1, 4] #tworzenie listy\n",
    "for i in mylist:\n",
    "    print(i)"
   ]
  },
  {
   "cell_type": "code",
   "execution_count": 2,
   "metadata": {},
   "outputs": [
    {
     "name": "stdout",
     "output_type": "stream",
     "text": [
      "0\n",
      "1\n",
      "4\n"
     ]
    }
   ],
   "source": [
    "#wzór na listę, list comprehension, lista, która dostała generator do konstruktora\n",
    "mylist = [x*x for x in range(3)] \n",
    "for i in mylist:\n",
    "    print(i)"
   ]
  },
  {
   "cell_type": "code",
   "execution_count": 3,
   "metadata": {},
   "outputs": [
    {
     "name": "stdout",
     "output_type": "stream",
     "text": [
      "0\n",
      "1\n",
      "4\n"
     ]
    }
   ],
   "source": [
    "#wzór na generator, potencjalną możliwość utworzenia listy, zmniejsza obciążenie komputera i przyspiesza działanie\n",
    "#generator stworzony przy pomocy wyrażenia generatorowego\n",
    "mylist = (x*x for x in range(3))  \n",
    "for i in mylist:\n",
    "    print(i)"
   ]
  },
  {
   "cell_type": "code",
   "execution_count": 12,
   "metadata": {},
   "outputs": [
    {
     "name": "stdout",
     "output_type": "stream",
     "text": [
      "0\n",
      "1\n",
      "4\n"
     ]
    }
   ],
   "source": [
    "#generator stworzony przy pomocy funkcji\n",
    "#zakres może być zmienny\n",
    "#normalną funkcję kończymy słówkiem return i wartością zwracaną\n",
    "#w przypadku generatorów zamiast return używamy słówka kluczowego yield\n",
    "#yield zwraca wartość\n",
    "#zwykła funkcja z return się wykona od początku\n",
    "#w przypadku yield wracamy na miejsce, w którym wyszliśmy, funkcja dodatkowo zapamiętuje swój stan od poprzedniego wyjścia\n",
    "\n",
    "def createGenerator(n):\n",
    "    mylist = range(n)  \n",
    "    for i in mylist:\n",
    "        yield i*i #natychmiastowe zwrócenie wartości po otrzymaniu i\n",
    "        \n",
    "for i in createGenerator(3):\n",
    "    print(i) #nie trafiamy na sam początek createGenerator, tylko tam, gdzie poprzednio wyszliśmy; tutaj wykonujemy kolejny krok pętli"
   ]
  },
  {
   "cell_type": "code",
   "execution_count": 13,
   "metadata": {},
   "outputs": [],
   "source": [
    "generator = createGenerator(3)"
   ]
  },
  {
   "cell_type": "code",
   "execution_count": 14,
   "metadata": {},
   "outputs": [
    {
     "name": "stdout",
     "output_type": "stream",
     "text": [
      "0\n",
      "1\n",
      "4\n"
     ]
    }
   ],
   "source": [
    "for i in generator:\n",
    "    print(i)"
   ]
  },
  {
   "cell_type": "code",
   "execution_count": 15,
   "metadata": {},
   "outputs": [],
   "source": [
    "for i in generator: #generatory są jednorazowe\n",
    "    print(i)"
   ]
  },
  {
   "cell_type": "markdown",
   "metadata": {},
   "source": [
    "# Fail2Ban"
   ]
  },
  {
   "cell_type": "markdown",
   "metadata": {},
   "source": [
    "Jeżeli z jednego adresu IP jest za dużo żądań, wrzucamy do kwarantanny.\n",
    "Ustawiamy ile jest możliwych uderzeń w trakcie jednego czasu.\n",
    "As you can see in my example, I have set up 300 maxretry and 300 for findtime, so, we need to have 300 GETs from the same IP in a time window of 300 seconds to have the originating IP blocked."
   ]
  },
  {
   "cell_type": "markdown",
   "metadata": {},
   "source": [
    "# Scraper"
   ]
  },
  {
   "cell_type": "markdown",
   "metadata": {},
   "source": [
    "Scrapy doesn’t wait a fixed amount of time between requests, but uses a random interval between 0.5 * DOWNLOAD_DELAY and 1.5 * DOWNLOAD_DELAY."
   ]
  },
  {
   "cell_type": "code",
   "execution_count": 16,
   "metadata": {},
   "outputs": [],
   "source": [
    "import scrapy\n",
    "import scrapy.crawler as crawler\n",
    "from bs4 import BeautifulSoup\n",
    "\n",
    "from scrapy.crawler import CrawlerProcess\n",
    "\n",
    "class MySpider(scrapy.Spider):\n",
    "    name = 'myspider'\n",
    "    start_urls = [\n",
    "        'https://www.gumtree.pl/s-mieszkania-i-domy-sprzedam-i-kupie/mazowieckie/v1c9073l3200001p1'\n",
    "        ]\n",
    "   \n",
    "    custom_settings = {\n",
    "        'DOWNLOAD_DELAY': '4.0', #obchodzimy zabezpieczenia Fail2Ban, ustawiając przerwę\n",
    "    }\n",
    "\n",
    "    top_url = 'https://www.gumtree.pl'\n",
    "    def parse(self, response):\n",
    "        self.logger.info('Got successful response from {}'.format(response.url))\n",
    "        soup = BeautifulSoup(response.body, 'lxml')\n",
    "        link_tabs = soup.findAll(\"div\", {\"class\": \"result-link\"}) #szukamy result link, czyli ramki ze screena 1\n",
    "        item_urls = []\n",
    "        for tab in link_tabs:\n",
    "            hrefs = tab.findAll(\"a\", {\"class\": \"href-link\"}) #szukamy parametru o atrybucie href link, screen 2\n",
    "            for h in hrefs:\n",
    "                item_urls.append(self.top_url + h[\"href\"]) #dopisujemy 'https://www.gumtree.pl', bo otrzymany adres jest względny, przygotowujemy listę wszystkich linków\n",
    "                \n",
    "        \n",
    "        for item_url in item_urls:\n",
    "            yield scrapy.Request(item_url, self.parse_item) #item_url - odwiedzanie strony, #self.parse_item - przetworzenie przy pomocy funkcji\n",
    "\n",
    "    def parse_item(self, response):\n",
    "        self.logger.info('Got successful response from {}'.format(response.url))\n"
   ]
  },
  {
   "cell_type": "code",
   "execution_count": 17,
   "metadata": {},
   "outputs": [
    {
     "name": "stderr",
     "output_type": "stream",
     "text": [
      "2019-04-04 19:50:03 [scrapy.utils.log] INFO: Scrapy 1.6.0 started (bot: scrapybot)\n",
      "2019-04-04 19:50:03 [scrapy.utils.log] INFO: Versions: lxml 4.3.2.0, libxml2 2.9.9, cssselect 1.0.3, parsel 1.5.1, w3lib 1.20.0, Twisted 17.9.0, Python 3.6.7 (default, Oct 22 2018, 11:32:17) - [GCC 8.2.0], pyOpenSSL 17.5.0 (OpenSSL 1.1.0g  2 Nov 2017), cryptography 2.1.4, Platform Linux-4.4.0-17134-Microsoft-x86_64-with-Ubuntu-18.04-bionic\n",
      "2019-04-04 19:50:03 [scrapy.crawler] INFO: Overridden settings: {'DOWNLOAD_DELAY': '4.0', 'USER_AGENT': 'Mozilla/4.0 (compatible; MSIE 7.0; Windows NT 5.1)'}\n",
      "2019-04-04 19:50:03 [scrapy.extensions.telnet] INFO: Telnet Password: 84eeacb84f5c1344\n",
      "2019-04-04 19:50:04 [scrapy.middleware] INFO: Enabled extensions:\n",
      "['scrapy.extensions.corestats.CoreStats',\n",
      " 'scrapy.extensions.telnet.TelnetConsole',\n",
      " 'scrapy.extensions.memusage.MemoryUsage',\n",
      " 'scrapy.extensions.logstats.LogStats']\n",
      "2019-04-04 19:50:06 [scrapy.middleware] INFO: Enabled downloader middlewares:\n",
      "['scrapy.downloadermiddlewares.httpauth.HttpAuthMiddleware',\n",
      " 'scrapy.downloadermiddlewares.downloadtimeout.DownloadTimeoutMiddleware',\n",
      " 'scrapy.downloadermiddlewares.defaultheaders.DefaultHeadersMiddleware',\n",
      " 'scrapy.downloadermiddlewares.useragent.UserAgentMiddleware',\n",
      " 'scrapy.downloadermiddlewares.retry.RetryMiddleware',\n",
      " 'scrapy.downloadermiddlewares.redirect.MetaRefreshMiddleware',\n",
      " 'scrapy.downloadermiddlewares.httpcompression.HttpCompressionMiddleware',\n",
      " 'scrapy.downloadermiddlewares.redirect.RedirectMiddleware',\n",
      " 'scrapy.downloadermiddlewares.cookies.CookiesMiddleware',\n",
      " 'scrapy.downloadermiddlewares.httpproxy.HttpProxyMiddleware',\n",
      " 'scrapy.downloadermiddlewares.stats.DownloaderStats']\n",
      "2019-04-04 19:50:06 [scrapy.middleware] INFO: Enabled spider middlewares:\n",
      "['scrapy.spidermiddlewares.httperror.HttpErrorMiddleware',\n",
      " 'scrapy.spidermiddlewares.offsite.OffsiteMiddleware',\n",
      " 'scrapy.spidermiddlewares.referer.RefererMiddleware',\n",
      " 'scrapy.spidermiddlewares.urllength.UrlLengthMiddleware',\n",
      " 'scrapy.spidermiddlewares.depth.DepthMiddleware']\n",
      "2019-04-04 19:50:06 [scrapy.middleware] INFO: Enabled item pipelines:\n",
      "[]\n",
      "2019-04-04 19:50:06 [scrapy.core.engine] INFO: Spider opened\n",
      "2019-04-04 19:50:06 [scrapy.extensions.logstats] INFO: Crawled 0 pages (at 0 pages/min), scraped 0 items (at 0 items/min)\n",
      "2019-04-04 19:50:06 [scrapy.extensions.telnet] INFO: Telnet console listening on 127.0.0.1:6023\n",
      "2019-04-04 19:50:09 [scrapy.core.engine] DEBUG: Crawled (200) <GET https://www.gumtree.pl/s-mieszkania-i-domy-sprzedam-i-kupie/mazowieckie/v1c9073l3200001p1> (referer: None)\n",
      "2019-04-04 19:50:09 [myspider] INFO: Got successful response from https://www.gumtree.pl/s-mieszkania-i-domy-sprzedam-i-kupie/mazowieckie/v1c9073l3200001p1\n",
      "2019-04-04 19:50:11 [scrapy.core.engine] DEBUG: Crawled (200) <GET https://www.gumtree.pl/a-mieszkania-i-domy-sprzedam-i-kupie/wegrow/dom-murowany-100m2-na-pieknej-dzialce-w-lesie-nad-rzeka-1h-od-warszawy/1002375744670910479582609> (referer: https://www.gumtree.pl/s-mieszkania-i-domy-sprzedam-i-kupie/mazowieckie/v1c9073l3200001p1)\n",
      "2019-04-04 19:50:11 [myspider] INFO: Got successful response from https://www.gumtree.pl/a-mieszkania-i-domy-sprzedam-i-kupie/wegrow/dom-murowany-100m2-na-pieknej-dzialce-w-lesie-nad-rzeka-1h-od-warszawy/1002375744670910479582609\n",
      "2019-04-04 19:50:16 [scrapy.core.engine] DEBUG: Crawled (200) <GET https://www.gumtree.pl/a-mieszkania-i-domy-sprzedam-i-kupie/bialoleka/promocja-bezp-4pok-autobusy-do-metra-gotowe/1004685205240912103460109> (referer: https://www.gumtree.pl/s-mieszkania-i-domy-sprzedam-i-kupie/mazowieckie/v1c9073l3200001p1)\n",
      "2019-04-04 19:50:16 [myspider] INFO: Got successful response from https://www.gumtree.pl/a-mieszkania-i-domy-sprzedam-i-kupie/bialoleka/promocja-bezp-4pok-autobusy-do-metra-gotowe/1004685205240912103460109\n",
      "2019-04-04 19:50:21 [scrapy.core.engine] DEBUG: Crawled (200) <GET https://www.gumtree.pl/a-mieszkania-i-domy-sprzedam-i-kupie/bialoleka/gotowe-bezposrednio-3pok-autobusy-do-metra/1004685156520912103460109> (referer: https://www.gumtree.pl/s-mieszkania-i-domy-sprzedam-i-kupie/mazowieckie/v1c9073l3200001p1)\n",
      "2019-04-04 19:50:21 [myspider] INFO: Got successful response from https://www.gumtree.pl/a-mieszkania-i-domy-sprzedam-i-kupie/bialoleka/gotowe-bezposrednio-3pok-autobusy-do-metra/1004685156520912103460109\n",
      "2019-04-04 19:50:26 [scrapy.core.engine] DEBUG: Crawled (200) <GET https://www.gumtree.pl/a-mieszkania-i-domy-sprzedam-i-kupie/bialoleka/tarchomin-bezposrednio-2pok-49m2-balkon/1004685108620912103460109> (referer: https://www.gumtree.pl/s-mieszkania-i-domy-sprzedam-i-kupie/mazowieckie/v1c9073l3200001p1)\n",
      "2019-04-04 19:50:26 [myspider] INFO: Got successful response from https://www.gumtree.pl/a-mieszkania-i-domy-sprzedam-i-kupie/bialoleka/tarchomin-bezposrednio-2pok-49m2-balkon/1004685108620912103460109\n",
      "2019-04-04 19:50:31 [scrapy.core.engine] DEBUG: Crawled (200) <GET https://www.gumtree.pl/a-mieszkania-i-domy-sprzedam-i-kupie/bialoleka/tarchomin-bezposrednio-2pok-41m2-balkon/1004685156530912103460109> (referer: https://www.gumtree.pl/s-mieszkania-i-domy-sprzedam-i-kupie/mazowieckie/v1c9073l3200001p1)\n",
      "2019-04-04 19:50:32 [myspider] INFO: Got successful response from https://www.gumtree.pl/a-mieszkania-i-domy-sprzedam-i-kupie/bialoleka/tarchomin-bezposrednio-2pok-41m2-balkon/1004685156530912103460109\n",
      "2019-04-04 19:50:36 [scrapy.core.engine] DEBUG: Crawled (200) <GET https://www.gumtree.pl/a-mieszkania-i-domy-sprzedam-i-kupie/bialoleka/6400zl-m2-tarchomin-bezposrednio-2pok-46m2-balkon/1004685156540912103460109> (referer: https://www.gumtree.pl/s-mieszkania-i-domy-sprzedam-i-kupie/mazowieckie/v1c9073l3200001p1)\n",
      "2019-04-04 19:50:36 [myspider] INFO: Got successful response from https://www.gumtree.pl/a-mieszkania-i-domy-sprzedam-i-kupie/bialoleka/6400zl-m2-tarchomin-bezposrednio-2pok-46m2-balkon/1004685156540912103460109\n",
      "2019-04-04 19:50:42 [scrapy.core.engine] DEBUG: Crawled (200) <GET https://www.gumtree.pl/a-mieszkania-i-domy-sprzedam-i-kupie/praga-polnoc/47-m2-dwupokojowe-na-pradze+polnoc/1004684836560911475115109> (referer: https://www.gumtree.pl/s-mieszkania-i-domy-sprzedam-i-kupie/mazowieckie/v1c9073l3200001p1)\n",
      "2019-04-04 19:50:42 [myspider] INFO: Got successful response from https://www.gumtree.pl/a-mieszkania-i-domy-sprzedam-i-kupie/praga-polnoc/47-m2-dwupokojowe-na-pradze+polnoc/1004684836560911475115109\n",
      "2019-04-04 19:50:48 [scrapy.core.engine] DEBUG: Crawled (200) <GET https://www.gumtree.pl/a-mieszkania-i-domy-sprzedam-i-kupie/bemowo/mieszkanie-warszawa-bemowo-41m2-nr-76575-3645-oms/1004685108660910535030709> (referer: https://www.gumtree.pl/s-mieszkania-i-domy-sprzedam-i-kupie/mazowieckie/v1c9073l3200001p1)\n",
      "2019-04-04 19:50:48 [myspider] INFO: Got successful response from https://www.gumtree.pl/a-mieszkania-i-domy-sprzedam-i-kupie/bemowo/mieszkanie-warszawa-bemowo-41m2-nr-76575-3645-oms/1004685108660910535030709\n",
      "2019-04-04 19:50:53 [scrapy.core.engine] DEBUG: Crawled (200) <GET https://www.gumtree.pl/a-mieszkania-i-domy-sprzedam-i-kupie/srodmiescie/rozkladowe-dwustronne-balkon-piekny-widok-centrum/1004685108680911379840409> (referer: https://www.gumtree.pl/s-mieszkania-i-domy-sprzedam-i-kupie/mazowieckie/v1c9073l3200001p1)\n",
      "2019-04-04 19:50:53 [myspider] INFO: Got successful response from https://www.gumtree.pl/a-mieszkania-i-domy-sprzedam-i-kupie/srodmiescie/rozkladowe-dwustronne-balkon-piekny-widok-centrum/1004685108680911379840409\n",
      "2019-04-04 19:50:58 [scrapy.core.engine] DEBUG: Crawled (200) <GET https://www.gumtree.pl/a-mieszkania-i-domy-sprzedam-i-kupie/wlochy/wlochy-stawy-4-pokoje/1004684965430912109204909> (referer: https://www.gumtree.pl/s-mieszkania-i-domy-sprzedam-i-kupie/mazowieckie/v1c9073l3200001p1)\n",
      "2019-04-04 19:50:58 [myspider] INFO: Got successful response from https://www.gumtree.pl/a-mieszkania-i-domy-sprzedam-i-kupie/wlochy/wlochy-stawy-4-pokoje/1004684965430912109204909\n",
      "2019-04-04 19:51:03 [scrapy.core.engine] DEBUG: Crawled (200) <GET https://www.gumtree.pl/a-mieszkania-i-domy-sprzedam-i-kupie/wawer/willa-z-duzym-ogrodem-atrakcyjna-0-prowizji/1004685000270911276019009> (referer: https://www.gumtree.pl/s-mieszkania-i-domy-sprzedam-i-kupie/mazowieckie/v1c9073l3200001p1)\n",
      "2019-04-04 19:51:03 [myspider] INFO: Got successful response from https://www.gumtree.pl/a-mieszkania-i-domy-sprzedam-i-kupie/wawer/willa-z-duzym-ogrodem-atrakcyjna-0-prowizji/1004685000270911276019009\n"
     ]
    },
    {
     "name": "stderr",
     "output_type": "stream",
     "text": [
      "2019-04-04 19:51:06 [scrapy.extensions.logstats] INFO: Crawled 12 pages (at 12 pages/min), scraped 0 items (at 0 items/min)\n",
      "2019-04-04 19:51:07 [scrapy.core.engine] DEBUG: Crawled (200) <GET https://www.gumtree.pl/a-mieszkania-i-domy-sprzedam-i-kupie/srodmiescie/srodmiescie-5-pokoi-rondo-onz/1004684896470911158184709> (referer: https://www.gumtree.pl/s-mieszkania-i-domy-sprzedam-i-kupie/mazowieckie/v1c9073l3200001p1)\n",
      "2019-04-04 19:51:07 [myspider] INFO: Got successful response from https://www.gumtree.pl/a-mieszkania-i-domy-sprzedam-i-kupie/srodmiescie/srodmiescie-5-pokoi-rondo-onz/1004684896470911158184709\n",
      "2019-04-04 19:51:12 [scrapy.core.engine] DEBUG: Crawled (200) <GET https://www.gumtree.pl/a-mieszkania-i-domy-sprzedam-i-kupie/wawer/nowoczesne-osiedle-na-wawrze/1004685156880911543290009> (referer: https://www.gumtree.pl/s-mieszkania-i-domy-sprzedam-i-kupie/mazowieckie/v1c9073l3200001p1)\n",
      "2019-04-04 19:51:12 [myspider] INFO: Got successful response from https://www.gumtree.pl/a-mieszkania-i-domy-sprzedam-i-kupie/wawer/nowoczesne-osiedle-na-wawrze/1004685156880911543290009\n",
      "2019-04-04 19:51:18 [scrapy.core.engine] DEBUG: Crawled (200) <GET https://www.gumtree.pl/a-mieszkania-i-domy-sprzedam-i-kupie/wlochy/mieszkanie-warszawa-wlochy-86m2-nr-76576-3645-oms/1004685205780910535030709> (referer: https://www.gumtree.pl/s-mieszkania-i-domy-sprzedam-i-kupie/mazowieckie/v1c9073l3200001p1)\n",
      "2019-04-04 19:51:18 [myspider] INFO: Got successful response from https://www.gumtree.pl/a-mieszkania-i-domy-sprzedam-i-kupie/wlochy/mieszkanie-warszawa-wlochy-86m2-nr-76576-3645-oms/1004685205780910535030709\n",
      "2019-04-04 19:51:24 [scrapy.core.engine] DEBUG: Crawled (200) <GET https://www.gumtree.pl/a-mieszkania-i-domy-sprzedam-i-kupie/bemowo/mieszkanie-warszawa-bemowo-88-1m2-nr-76577-3645-oms/1004685145840910535030709> (referer: https://www.gumtree.pl/s-mieszkania-i-domy-sprzedam-i-kupie/mazowieckie/v1c9073l3200001p1)\n",
      "2019-04-04 19:51:24 [myspider] INFO: Got successful response from https://www.gumtree.pl/a-mieszkania-i-domy-sprzedam-i-kupie/bemowo/mieszkanie-warszawa-bemowo-88-1m2-nr-76577-3645-oms/1004685145840910535030709\n",
      "2019-04-04 19:51:29 [scrapy.core.engine] DEBUG: Crawled (200) <GET https://www.gumtree.pl/a-mieszkania-i-domy-sprzedam-i-kupie/siedlce/sprzedam-sloneczne-mieszkanie-w-centrum/1002483883540911207759309> (referer: https://www.gumtree.pl/s-mieszkania-i-domy-sprzedam-i-kupie/mazowieckie/v1c9073l3200001p1)\n",
      "2019-04-04 19:51:29 [myspider] INFO: Got successful response from https://www.gumtree.pl/a-mieszkania-i-domy-sprzedam-i-kupie/siedlce/sprzedam-sloneczne-mieszkanie-w-centrum/1002483883540911207759309\n",
      "2019-04-04 19:51:34 [scrapy.core.engine] DEBUG: Crawled (200) <GET https://www.gumtree.pl/a-mieszkania-i-domy-sprzedam-i-kupie/ursynow/nowoczesne-osiedle-blisko-komunikacja-miejska/1004684920660911276019009> (referer: https://www.gumtree.pl/s-mieszkania-i-domy-sprzedam-i-kupie/mazowieckie/v1c9073l3200001p1)\n",
      "2019-04-04 19:51:34 [myspider] INFO: Got successful response from https://www.gumtree.pl/a-mieszkania-i-domy-sprzedam-i-kupie/ursynow/nowoczesne-osiedle-blisko-komunikacja-miejska/1004684920660911276019009\n",
      "2019-04-04 19:51:39 [scrapy.core.engine] DEBUG: Crawled (200) <GET https://www.gumtree.pl/a-mieszkania-i-domy-sprzedam-i-kupie/piaseczno/kameralne-osiedle-na-skraju-jozefoslaw-piaseczno/1004685277380911543290009> (referer: https://www.gumtree.pl/s-mieszkania-i-domy-sprzedam-i-kupie/mazowieckie/v1c9073l3200001p1)\n",
      "2019-04-04 19:51:39 [myspider] INFO: Got successful response from https://www.gumtree.pl/a-mieszkania-i-domy-sprzedam-i-kupie/piaseczno/kameralne-osiedle-na-skraju-jozefoslaw-piaseczno/1004685277380911543290009\n",
      "2019-04-04 19:51:44 [scrapy.core.engine] DEBUG: Crawled (200) <GET https://www.gumtree.pl/a-mieszkania-i-domy-sprzedam-i-kupie/piaseczno/kameralne-osiedle-na-skraju-jozefoslaw-piaseczno/1004685298120911543290009> (referer: https://www.gumtree.pl/s-mieszkania-i-domy-sprzedam-i-kupie/mazowieckie/v1c9073l3200001p1)\n",
      "2019-04-04 19:51:44 [myspider] INFO: Got successful response from https://www.gumtree.pl/a-mieszkania-i-domy-sprzedam-i-kupie/piaseczno/kameralne-osiedle-na-skraju-jozefoslaw-piaseczno/1004685298120911543290009\n",
      "2019-04-04 19:51:47 [scrapy.core.engine] DEBUG: Crawled (200) <GET https://www.gumtree.pl/a-mieszkania-i-domy-sprzedam-i-kupie/piaseczno/dom-dwurodzinny-z-duza-dzialka-2-wejscia-2-ogrod/1004685310020911276019009> (referer: https://www.gumtree.pl/s-mieszkania-i-domy-sprzedam-i-kupie/mazowieckie/v1c9073l3200001p1)\n",
      "2019-04-04 19:51:47 [myspider] INFO: Got successful response from https://www.gumtree.pl/a-mieszkania-i-domy-sprzedam-i-kupie/piaseczno/dom-dwurodzinny-z-duza-dzialka-2-wejscia-2-ogrod/1004685310020911276019009\n",
      "2019-04-04 19:51:51 [scrapy.core.engine] DEBUG: Crawled (200) <GET https://www.gumtree.pl/a-mieszkania-i-domy-sprzedam-i-kupie/piaseczno/134-metry-luksusu-na-jozefoslawiu+oferta-roku/1004684952490912105505909> (referer: https://www.gumtree.pl/s-mieszkania-i-domy-sprzedam-i-kupie/mazowieckie/v1c9073l3200001p1)\n",
      "2019-04-04 19:51:51 [myspider] INFO: Got successful response from https://www.gumtree.pl/a-mieszkania-i-domy-sprzedam-i-kupie/piaseczno/134-metry-luksusu-na-jozefoslawiu+oferta-roku/1004684952490912105505909\n",
      "2019-04-04 19:51:55 [scrapy.core.engine] DEBUG: Crawled (200) <GET https://www.gumtree.pl/a-mieszkania-i-domy-sprzedam-i-kupie/wawer/mieszkania-bezczynszowe-w-okolicy-goclawia-z-kanalizacja-+-wawer/1004613549910910775475709> (referer: https://www.gumtree.pl/s-mieszkania-i-domy-sprzedam-i-kupie/mazowieckie/v1c9073l3200001p1)\n",
      "2019-04-04 19:51:55 [myspider] INFO: Got successful response from https://www.gumtree.pl/a-mieszkania-i-domy-sprzedam-i-kupie/wawer/mieszkania-bezczynszowe-w-okolicy-goclawia-z-kanalizacja-+-wawer/1004613549910910775475709\n",
      "2019-04-04 19:52:00 [scrapy.core.engine] DEBUG: Crawled (200) <GET https://www.gumtree.pl/a-mieszkania-i-domy-sprzedam-i-kupie/mokotow/2-pokoje-bardzo-dobry-rozklad-cesja-sluzew/1004567636950912117933409> (referer: https://www.gumtree.pl/s-mieszkania-i-domy-sprzedam-i-kupie/mazowieckie/v1c9073l3200001p1)\n",
      "2019-04-04 19:52:00 [myspider] INFO: Got successful response from https://www.gumtree.pl/a-mieszkania-i-domy-sprzedam-i-kupie/mokotow/2-pokoje-bardzo-dobry-rozklad-cesja-sluzew/1004567636950912117933409\n",
      "2019-04-04 19:52:00 [scrapy.core.engine] INFO: Closing spider (finished)\n",
      "2019-04-04 19:52:00 [scrapy.statscollectors] INFO: Dumping Scrapy stats:\n",
      "{'downloader/request_bytes': 17314,\n",
      " 'downloader/request_count': 24,\n",
      " 'downloader/request_method_count/GET': 24,\n",
      " 'downloader/response_bytes': 759726,\n",
      " 'downloader/response_count': 24,\n",
      " 'downloader/response_status_count/200': 24,\n",
      " 'finish_reason': 'finished',\n",
      " 'finish_time': datetime.datetime(2019, 4, 4, 17, 52, 0, 673736),\n",
      " 'log_count/DEBUG': 24,\n",
      " 'log_count/INFO': 34,\n",
      " 'memusage/max': 75878400,\n",
      " 'memusage/startup': 70004736,\n",
      " 'request_depth_max': 1,\n",
      " 'response_received_count': 24,\n",
      " 'scheduler/dequeued': 24,\n",
      " 'scheduler/dequeued/memory': 24,\n",
      " 'scheduler/enqueued': 24,\n",
      " 'scheduler/enqueued/memory': 24,\n",
      " 'start_time': datetime.datetime(2019, 4, 4, 17, 50, 6, 576523)}\n",
      "2019-04-04 19:52:00 [scrapy.core.engine] INFO: Spider closed (finished)\n"
     ]
    }
   ],
   "source": [
    "process = CrawlerProcess({\n",
    "    'USER_AGENT': 'Mozilla/4.0 (compatible; MSIE 7.0; Windows NT 5.1)'\n",
    "})\n",
    "process.crawl(MySpider)\n",
    "process.start()"
   ]
  },
  {
   "cell_type": "code",
   "execution_count": 1,
   "metadata": {},
   "outputs": [],
   "source": [
    "#pająk z paginacją, czyli chodzący po stronach\n",
    "\n",
    "import scrapy\n",
    "import scrapy.crawler as crawler\n",
    "from bs4 import BeautifulSoup\n",
    "\n",
    "from scrapy.crawler import CrawlerProcess\n",
    "\n",
    "class MyPaginatingSpider(scrapy.Spider):\n",
    "    name = 'mypaginatingspider'\n",
    "    start_urls = [\n",
    "        'https://www.gumtree.pl/s-mieszkania-i-domy-sprzedam-i-kupie/mazowieckie/v1c9073l3200001p1'\n",
    "        ]\n",
    "   \n",
    "    custom_settings = {\n",
    "        'DOWNLOAD_DELAY': '6.0',\n",
    "    }\n",
    "\n",
    "    top_url = 'https://www.gumtree.pl'\n",
    "    def parse(self, response):\n",
    "        self.logger.info('Got successful response from {}'.format(response.url))\n",
    "        soup = BeautifulSoup(response.body, 'lxml')\n",
    "        link_tabs = soup.findAll(\"div\", {\"class\": \"result-link\"})\n",
    "        item_urls = []\n",
    "        next_urls = []\n",
    "        for tab in link_tabs:\n",
    "            hrefs = tab.findAll(\"a\", {\"class\": \"href-link\"})\n",
    "            for h in hrefs:\n",
    "                item_urls.append(self.top_url + h[\"href\"])\n",
    "            \n",
    "        nexts = soup.findAll(\"a\", {\"class\": \"next\"})\n",
    "        \n",
    "        for h in nexts:\n",
    "            for h in hrefs:\n",
    "                next_urls.append(self.top_url + h[\"href\"])\n",
    "        \n",
    "        print (next_urls)\n",
    "            \n",
    "        for item_url in item_urls:\n",
    "            yield scrapy.Request(item_url, self.parse_item)\n",
    "\n",
    "        for next_url in next_urls: #odwiedzanie następnych stron z linkami\n",
    "            yield scrapy.Request(item_url, self.parse)\n",
    "    \n",
    "            \n",
    "    def parse_item(self, response):\n",
    "        self.logger.info('Got successful response from {}'.format(response.url))\n",
    "\n"
   ]
  },
  {
   "cell_type": "code",
   "execution_count": 2,
   "metadata": {},
   "outputs": [
    {
     "name": "stderr",
     "output_type": "stream",
     "text": [
      "2019-04-04 20:08:39 [scrapy.utils.log] INFO: Scrapy 1.6.0 started (bot: scrapybot)\n",
      "2019-04-04 20:08:39 [scrapy.utils.log] INFO: Versions: lxml 4.3.2.0, libxml2 2.9.9, cssselect 1.0.3, parsel 1.5.1, w3lib 1.20.0, Twisted 17.9.0, Python 3.6.7 (default, Oct 22 2018, 11:32:17) - [GCC 8.2.0], pyOpenSSL 17.5.0 (OpenSSL 1.1.0g  2 Nov 2017), cryptography 2.1.4, Platform Linux-4.4.0-17134-Microsoft-x86_64-with-Ubuntu-18.04-bionic\n",
      "2019-04-04 20:08:39 [scrapy.crawler] INFO: Overridden settings: {'DOWNLOAD_DELAY': '6.0', 'USER_AGENT': 'Mozilla/4.0 (compatible; MSIE 7.0; Windows NT 5.1)'}\n",
      "2019-04-04 20:08:39 [scrapy.extensions.telnet] INFO: Telnet Password: e248f01720ddaab4\n",
      "2019-04-04 20:08:39 [scrapy.middleware] INFO: Enabled extensions:\n",
      "['scrapy.extensions.corestats.CoreStats',\n",
      " 'scrapy.extensions.telnet.TelnetConsole',\n",
      " 'scrapy.extensions.memusage.MemoryUsage',\n",
      " 'scrapy.extensions.logstats.LogStats']\n",
      "2019-04-04 20:08:39 [scrapy.middleware] INFO: Enabled downloader middlewares:\n",
      "['scrapy.downloadermiddlewares.httpauth.HttpAuthMiddleware',\n",
      " 'scrapy.downloadermiddlewares.downloadtimeout.DownloadTimeoutMiddleware',\n",
      " 'scrapy.downloadermiddlewares.defaultheaders.DefaultHeadersMiddleware',\n",
      " 'scrapy.downloadermiddlewares.useragent.UserAgentMiddleware',\n",
      " 'scrapy.downloadermiddlewares.retry.RetryMiddleware',\n",
      " 'scrapy.downloadermiddlewares.redirect.MetaRefreshMiddleware',\n",
      " 'scrapy.downloadermiddlewares.httpcompression.HttpCompressionMiddleware',\n",
      " 'scrapy.downloadermiddlewares.redirect.RedirectMiddleware',\n",
      " 'scrapy.downloadermiddlewares.cookies.CookiesMiddleware',\n",
      " 'scrapy.downloadermiddlewares.httpproxy.HttpProxyMiddleware',\n",
      " 'scrapy.downloadermiddlewares.stats.DownloaderStats']\n",
      "2019-04-04 20:08:39 [scrapy.middleware] INFO: Enabled spider middlewares:\n",
      "['scrapy.spidermiddlewares.httperror.HttpErrorMiddleware',\n",
      " 'scrapy.spidermiddlewares.offsite.OffsiteMiddleware',\n",
      " 'scrapy.spidermiddlewares.referer.RefererMiddleware',\n",
      " 'scrapy.spidermiddlewares.urllength.UrlLengthMiddleware',\n",
      " 'scrapy.spidermiddlewares.depth.DepthMiddleware']\n",
      "2019-04-04 20:08:39 [scrapy.middleware] INFO: Enabled item pipelines:\n",
      "[]\n",
      "2019-04-04 20:08:39 [scrapy.core.engine] INFO: Spider opened\n",
      "2019-04-04 20:08:39 [scrapy.extensions.logstats] INFO: Crawled 0 pages (at 0 pages/min), scraped 0 items (at 0 items/min)\n",
      "2019-04-04 20:08:39 [scrapy.extensions.telnet] INFO: Telnet console listening on 127.0.0.1:6023\n",
      "2019-04-04 20:08:42 [scrapy.core.engine] DEBUG: Crawled (200) <GET https://www.gumtree.pl/s-mieszkania-i-domy-sprzedam-i-kupie/mazowieckie/v1c9073l3200001p1> (referer: None)\n",
      "2019-04-04 20:08:42 [mypaginatingspider] INFO: Got successful response from https://www.gumtree.pl/s-mieszkania-i-domy-sprzedam-i-kupie/mazowieckie/v1c9073l3200001p1\n",
      "2019-04-04 20:08:42 [scrapy.dupefilters] DEBUG: Filtered duplicate request: <GET https://www.gumtree.pl/a-mieszkania-i-domy-sprzedam-i-kupie/bielany/mieszkanie-warszawa-bielany-90m2-nr-76578-3645-oms/1004685300410910535030709> - no more duplicates will be shown (see DUPEFILTER_DEBUG to show all duplicates)\n"
     ]
    },
    {
     "name": "stdout",
     "output_type": "stream",
     "text": [
      "['https://www.gumtree.pl/a-mieszkania-i-domy-sprzedam-i-kupie/bielany/mieszkanie-warszawa-bielany-90m2-nr-76578-3645-oms/1004685300410910535030709']\n"
     ]
    },
    {
     "name": "stderr",
     "output_type": "stream",
     "text": [
      "2019-04-04 20:08:45 [scrapy.core.engine] DEBUG: Crawled (200) <GET https://www.gumtree.pl/a-mieszkania-i-domy-sprzedam-i-kupie/mokotow/bezposrednio-33-5-m2-na-starym-mokotowie-+-ul-madalinskiego/1004346805610912096532209> (referer: https://www.gumtree.pl/s-mieszkania-i-domy-sprzedam-i-kupie/mazowieckie/v1c9073l3200001p1)\n",
      "2019-04-04 20:08:46 [mypaginatingspider] INFO: Got successful response from https://www.gumtree.pl/a-mieszkania-i-domy-sprzedam-i-kupie/mokotow/bezposrednio-33-5-m2-na-starym-mokotowie-+-ul-madalinskiego/1004346805610912096532209\n",
      "2019-04-04 20:08:54 [scrapy.core.engine] DEBUG: Crawled (200) <GET https://www.gumtree.pl/a-mieszkania-i-domy-sprzedam-i-kupie/bielany/mieszkanie-warszawa-bielany-90m2-nr-76578-3645-oms/1004685300410910535030709> (referer: https://www.gumtree.pl/s-mieszkania-i-domy-sprzedam-i-kupie/mazowieckie/v1c9073l3200001p1)\n",
      "2019-04-04 20:08:54 [mypaginatingspider] INFO: Got successful response from https://www.gumtree.pl/a-mieszkania-i-domy-sprzedam-i-kupie/bielany/mieszkanie-warszawa-bielany-90m2-nr-76578-3645-oms/1004685300410910535030709\n",
      "2019-04-04 20:09:02 [scrapy.core.engine] DEBUG: Crawled (200) <GET https://www.gumtree.pl/a-mieszkania-i-domy-sprzedam-i-kupie/bielany/luksusowe-5-pokoi-dwa-balkony-3-garaze-bielany-metro/1004684990350912105367809> (referer: https://www.gumtree.pl/s-mieszkania-i-domy-sprzedam-i-kupie/mazowieckie/v1c9073l3200001p1)\n",
      "2019-04-04 20:09:02 [mypaginatingspider] INFO: Got successful response from https://www.gumtree.pl/a-mieszkania-i-domy-sprzedam-i-kupie/bielany/luksusowe-5-pokoi-dwa-balkony-3-garaze-bielany-metro/1004684990350912105367809\n",
      "2019-04-04 20:09:10 [scrapy.core.engine] DEBUG: Crawled (200) <GET https://www.gumtree.pl/a-mieszkania-i-domy-sprzedam-i-kupie/bialoleka/nowe-mieszkanie-2-pok-%2B-balkon-bialoleka-2019/1004685320260911379840509> (referer: https://www.gumtree.pl/s-mieszkania-i-domy-sprzedam-i-kupie/mazowieckie/v1c9073l3200001p1)\n",
      "2019-04-04 20:09:10 [mypaginatingspider] INFO: Got successful response from https://www.gumtree.pl/a-mieszkania-i-domy-sprzedam-i-kupie/bialoleka/nowe-mieszkanie-2-pok-%2B-balkon-bialoleka-2019/1004685320260911379840509\n",
      "2019-04-04 20:09:17 [scrapy.core.engine] DEBUG: Crawled (200) <GET https://www.gumtree.pl/a-mieszkania-i-domy-sprzedam-i-kupie/konstancin+jeziorna/apartament-w-prestizowej-lokalizacji/1004685320320911543290009> (referer: https://www.gumtree.pl/s-mieszkania-i-domy-sprzedam-i-kupie/mazowieckie/v1c9073l3200001p1)\n",
      "2019-04-04 20:09:17 [mypaginatingspider] INFO: Got successful response from https://www.gumtree.pl/a-mieszkania-i-domy-sprzedam-i-kupie/konstancin+jeziorna/apartament-w-prestizowej-lokalizacji/1004685320320911543290009\n",
      "2019-04-04 20:09:25 [scrapy.core.engine] DEBUG: Crawled (200) <GET https://www.gumtree.pl/a-mieszkania-i-domy-sprzedam-i-kupie/targowek/mieszkanie-dwa-pokoje-z-balkonem-po-remoncie-na-targowku/1004685195200912105367809> (referer: https://www.gumtree.pl/s-mieszkania-i-domy-sprzedam-i-kupie/mazowieckie/v1c9073l3200001p1)\n",
      "2019-04-04 20:09:25 [mypaginatingspider] INFO: Got successful response from https://www.gumtree.pl/a-mieszkania-i-domy-sprzedam-i-kupie/targowek/mieszkanie-dwa-pokoje-z-balkonem-po-remoncie-na-targowku/1004685195200912105367809\n",
      "2019-04-04 20:09:31 [scrapy.core.engine] DEBUG: Crawled (200) <GET https://www.gumtree.pl/a-mieszkania-i-domy-sprzedam-i-kupie/ursynow/taras-120-m2-4+5-pokoi-ostatnie-pietro-winda-metro-zielen/1004684722990911305423509> (referer: https://www.gumtree.pl/s-mieszkania-i-domy-sprzedam-i-kupie/mazowieckie/v1c9073l3200001p1)\n",
      "2019-04-04 20:09:31 [mypaginatingspider] INFO: Got successful response from https://www.gumtree.pl/a-mieszkania-i-domy-sprzedam-i-kupie/ursynow/taras-120-m2-4+5-pokoi-ostatnie-pietro-winda-metro-zielen/1004684722990911305423509\n",
      "2019-04-04 20:09:39 [scrapy.core.engine] DEBUG: Crawled (200) <GET https://www.gumtree.pl/a-mieszkania-i-domy-sprzedam-i-kupie/piaseczno/gotowe-mieszkania-w-jozefoslawiu/1004685277630911543290009> (referer: https://www.gumtree.pl/s-mieszkania-i-domy-sprzedam-i-kupie/mazowieckie/v1c9073l3200001p1)\n",
      "2019-04-04 20:09:39 [scrapy.extensions.logstats] INFO: Crawled 9 pages (at 9 pages/min), scraped 0 items (at 0 items/min)\n",
      "2019-04-04 20:09:39 [mypaginatingspider] INFO: Got successful response from https://www.gumtree.pl/a-mieszkania-i-domy-sprzedam-i-kupie/piaseczno/gotowe-mieszkania-w-jozefoslawiu/1004685277630911543290009\n",
      "2019-04-04 20:09:48 [scrapy.core.engine] DEBUG: Crawled (200) <GET https://www.gumtree.pl/a-mieszkania-i-domy-sprzedam-i-kupie/zyrardow/mieszkanie-63-m/1004684920710910482005109> (referer: https://www.gumtree.pl/s-mieszkania-i-domy-sprzedam-i-kupie/mazowieckie/v1c9073l3200001p1)\n",
      "2019-04-04 20:09:48 [mypaginatingspider] INFO: Got successful response from https://www.gumtree.pl/a-mieszkania-i-domy-sprzedam-i-kupie/zyrardow/mieszkanie-63-m/1004684920710910482005109\n",
      "2019-04-04 20:09:53 [scrapy.core.engine] DEBUG: Crawled (200) <GET https://www.gumtree.pl/a-mieszkania-i-domy-sprzedam-i-kupie/marki/wolnostojacy-taras-piekny-ogrod/1004684952560911158184709> (referer: https://www.gumtree.pl/s-mieszkania-i-domy-sprzedam-i-kupie/mazowieckie/v1c9073l3200001p1)\n",
      "2019-04-04 20:09:54 [mypaginatingspider] INFO: Got successful response from https://www.gumtree.pl/a-mieszkania-i-domy-sprzedam-i-kupie/marki/wolnostojacy-taras-piekny-ogrod/1004684952560911158184709\n",
      "2019-04-04 20:10:03 [scrapy.core.engine] DEBUG: Crawled (200) <GET https://www.gumtree.pl/a-mieszkania-i-domy-sprzedam-i-kupie/wesola/zamieszkaj-na-zielonym-osiedlu/1004685367060912105505909> (referer: https://www.gumtree.pl/s-mieszkania-i-domy-sprzedam-i-kupie/mazowieckie/v1c9073l3200001p1)\n",
      "2019-04-04 20:10:03 [mypaginatingspider] INFO: Got successful response from https://www.gumtree.pl/a-mieszkania-i-domy-sprzedam-i-kupie/wesola/zamieszkaj-na-zielonym-osiedlu/1004685367060912105505909\n",
      "2019-04-04 20:10:06 [scrapy.crawler] INFO: Received SIGINT, shutting down gracefully. Send again to force \n",
      "2019-04-04 20:10:06 [scrapy.core.engine] INFO: Closing spider (shutdown)\n",
      "2019-04-04 20:10:09 [scrapy.core.engine] DEBUG: Crawled (200) <GET https://www.gumtree.pl/a-mieszkania-i-domy-sprzedam-i-kupie/wilanow/ostatnie-pietro-hit-z-2018-piekny-widok-3-miejsca-postojowe-miasteczko-wilanow/1004684836730911305423509> (referer: https://www.gumtree.pl/s-mieszkania-i-domy-sprzedam-i-kupie/mazowieckie/v1c9073l3200001p1)\n",
      "2019-04-04 20:10:10 [mypaginatingspider] INFO: Got successful response from https://www.gumtree.pl/a-mieszkania-i-domy-sprzedam-i-kupie/wilanow/ostatnie-pietro-hit-z-2018-piekny-widok-3-miejsca-postojowe-miasteczko-wilanow/1004684836730911305423509\n",
      "2019-04-04 20:10:16 [scrapy.core.engine] DEBUG: Crawled (200) <GET https://www.gumtree.pl/a-mieszkania-i-domy-sprzedam-i-kupie/piaseczno/kameralne-osiedle-na-skraju-piaseczna/1004685320480911543290009> (referer: https://www.gumtree.pl/s-mieszkania-i-domy-sprzedam-i-kupie/mazowieckie/v1c9073l3200001p1)\n",
      "2019-04-04 20:10:16 [mypaginatingspider] INFO: Got successful response from https://www.gumtree.pl/a-mieszkania-i-domy-sprzedam-i-kupie/piaseczno/kameralne-osiedle-na-skraju-piaseczna/1004685320480911543290009\n",
      "2019-04-04 20:10:24 [scrapy.core.engine] DEBUG: Crawled (200) <GET https://www.gumtree.pl/a-mieszkania-i-domy-sprzedam-i-kupie/mokotow/nowe-mieszkanie-duze-okna-duzy-balkon-garaz-komorka-2ha-park/1004685299070910471531009> (referer: https://www.gumtree.pl/s-mieszkania-i-domy-sprzedam-i-kupie/mazowieckie/v1c9073l3200001p1)\n",
      "2019-04-04 20:10:24 [mypaginatingspider] INFO: Got successful response from https://www.gumtree.pl/a-mieszkania-i-domy-sprzedam-i-kupie/mokotow/nowe-mieszkanie-duze-okna-duzy-balkon-garaz-komorka-2ha-park/1004685299070910471531009\n",
      "2019-04-04 20:10:34 [scrapy.core.engine] DEBUG: Crawled (200) <GET https://www.gumtree.pl/a-mieszkania-i-domy-sprzedam-i-kupie/mokotow/taras-120-m2-ostatnie-pietro-4+5-pokoi-metro-zielen/1004685310140911305423509> (referer: https://www.gumtree.pl/s-mieszkania-i-domy-sprzedam-i-kupie/mazowieckie/v1c9073l3200001p1)\n",
      "2019-04-04 20:10:34 [mypaginatingspider] INFO: Got successful response from https://www.gumtree.pl/a-mieszkania-i-domy-sprzedam-i-kupie/mokotow/taras-120-m2-ostatnie-pietro-4+5-pokoi-metro-zielen/1004685310140911305423509\n"
     ]
    },
    {
     "name": "stderr",
     "output_type": "stream",
     "text": [
      "2019-04-04 20:10:39 [scrapy.extensions.logstats] INFO: Crawled 16 pages (at 7 pages/min), scraped 0 items (at 0 items/min)\n",
      "2019-04-04 20:10:41 [scrapy.core.engine] DEBUG: Crawled (200) <GET https://www.gumtree.pl/a-mieszkania-i-domy-sprzedam-i-kupie/piaseczno/mieszkanie-chylice-190-22m2-nr-bs5+ms+224919+107/1004685300700911543290009> (referer: https://www.gumtree.pl/s-mieszkania-i-domy-sprzedam-i-kupie/mazowieckie/v1c9073l3200001p1)\n",
      "2019-04-04 20:10:42 [mypaginatingspider] INFO: Got successful response from https://www.gumtree.pl/a-mieszkania-i-domy-sprzedam-i-kupie/piaseczno/mieszkanie-chylice-190-22m2-nr-bs5+ms+224919+107/1004685300700911543290009\n",
      "2019-04-04 20:10:48 [scrapy.core.engine] DEBUG: Crawled (200) <GET https://www.gumtree.pl/a-mieszkania-i-domy-sprzedam-i-kupie/bialoleka/nowe-mieszkanie-2-pok-%2B-taras-+-bialoleka-2019/1004685298690911379840509> (referer: https://www.gumtree.pl/s-mieszkania-i-domy-sprzedam-i-kupie/mazowieckie/v1c9073l3200001p1)\n",
      "2019-04-04 20:10:48 [mypaginatingspider] INFO: Got successful response from https://www.gumtree.pl/a-mieszkania-i-domy-sprzedam-i-kupie/bialoleka/nowe-mieszkanie-2-pok-%2B-taras-+-bialoleka-2019/1004685298690911379840509\n",
      "2019-04-04 20:10:55 [scrapy.core.engine] DEBUG: Crawled (200) <GET https://www.gumtree.pl/a-mieszkania-i-domy-sprzedam-i-kupie/piaseczno/mieszkanie-chylice-112-81m2-nr-bs5+ms+218904+107/1004685281880911543290009> (referer: https://www.gumtree.pl/s-mieszkania-i-domy-sprzedam-i-kupie/mazowieckie/v1c9073l3200001p1)\n",
      "2019-04-04 20:10:56 [mypaginatingspider] INFO: Got successful response from https://www.gumtree.pl/a-mieszkania-i-domy-sprzedam-i-kupie/piaseczno/mieszkanie-chylice-112-81m2-nr-bs5+ms+218904+107/1004685281880911543290009\n",
      "2019-04-04 20:11:05 [scrapy.core.engine] DEBUG: Crawled (200) <GET https://www.gumtree.pl/a-mieszkania-i-domy-sprzedam-i-kupie/garwolin/cyganowka-k-wilgi-dom-letniskowy-blisko-rzeka-i-las/1004684836790911276019009> (referer: https://www.gumtree.pl/s-mieszkania-i-domy-sprzedam-i-kupie/mazowieckie/v1c9073l3200001p1)\n",
      "2019-04-04 20:11:05 [mypaginatingspider] INFO: Got successful response from https://www.gumtree.pl/a-mieszkania-i-domy-sprzedam-i-kupie/garwolin/cyganowka-k-wilgi-dom-letniskowy-blisko-rzeka-i-las/1004684836790911276019009\n",
      "2019-04-04 20:11:12 [scrapy.core.engine] DEBUG: Crawled (200) <GET https://www.gumtree.pl/a-mieszkania-i-domy-sprzedam-i-kupie/mokotow/nowe-mieszkanie-3-pokojowe-2-garaze-komorka-2-ha-park/1004685299080910471531009> (referer: https://www.gumtree.pl/s-mieszkania-i-domy-sprzedam-i-kupie/mazowieckie/v1c9073l3200001p1)\n",
      "2019-04-04 20:11:12 [mypaginatingspider] INFO: Got successful response from https://www.gumtree.pl/a-mieszkania-i-domy-sprzedam-i-kupie/mokotow/nowe-mieszkanie-3-pokojowe-2-garaze-komorka-2-ha-park/1004685299080910471531009\n",
      "2019-04-04 20:11:16 [scrapy.core.engine] DEBUG: Crawled (200) <GET https://www.gumtree.pl/a-mieszkania-i-domy-sprzedam-i-kupie/piaseczno/atrakcyjne-ciche-2-balkony/1004684990410911276019009> (referer: https://www.gumtree.pl/s-mieszkania-i-domy-sprzedam-i-kupie/mazowieckie/v1c9073l3200001p1)\n",
      "2019-04-04 20:11:16 [mypaginatingspider] INFO: Got successful response from https://www.gumtree.pl/a-mieszkania-i-domy-sprzedam-i-kupie/piaseczno/atrakcyjne-ciche-2-balkony/1004684990410911276019009\n",
      "2019-04-04 20:11:24 [scrapy.core.engine] DEBUG: Crawled (200) <GET https://www.gumtree.pl/a-mieszkania-i-domy-sprzedam-i-kupie/mokotow/3-pokoje-na-sadybie/1004432497330912106151109> (referer: https://www.gumtree.pl/s-mieszkania-i-domy-sprzedam-i-kupie/mazowieckie/v1c9073l3200001p1)\n",
      "2019-04-04 20:11:24 [mypaginatingspider] INFO: Got successful response from https://www.gumtree.pl/a-mieszkania-i-domy-sprzedam-i-kupie/mokotow/3-pokoje-na-sadybie/1004432497330912106151109\n",
      "2019-04-04 20:11:33 [scrapy.core.engine] DEBUG: Crawled (200) <GET https://www.gumtree.pl/a-mieszkania-i-domy-sprzedam-i-kupie/wilanow/apartament-+-penthouse-miasteczko-wilanow-110-m2-4-pokoje-bezposrednio-mieszkanie-nowe/1004641818920912108647309> (referer: https://www.gumtree.pl/s-mieszkania-i-domy-sprzedam-i-kupie/mazowieckie/v1c9073l3200001p1)\n",
      "2019-04-04 20:11:33 [mypaginatingspider] INFO: Got successful response from https://www.gumtree.pl/a-mieszkania-i-domy-sprzedam-i-kupie/wilanow/apartament-+-penthouse-miasteczko-wilanow-110-m2-4-pokoje-bezposrednio-mieszkanie-nowe/1004641818920912108647309\n",
      "2019-04-04 20:11:33 [scrapy.statscollectors] INFO: Dumping Scrapy stats:\n",
      "{'downloader/request_bytes': 17376,\n",
      " 'downloader/request_count': 24,\n",
      " 'downloader/request_method_count/GET': 24,\n",
      " 'downloader/response_bytes': 764263,\n",
      " 'downloader/response_count': 24,\n",
      " 'downloader/response_status_count/200': 24,\n",
      " 'dupefilter/filtered': 1,\n",
      " 'finish_reason': 'shutdown',\n",
      " 'finish_time': datetime.datetime(2019, 4, 4, 18, 11, 33, 471302),\n",
      " 'log_count/DEBUG': 25,\n",
      " 'log_count/INFO': 36,\n",
      " 'memusage/max': 76017664,\n",
      " 'memusage/startup': 69877760,\n",
      " 'request_depth_max': 1,\n",
      " 'response_received_count': 24,\n",
      " 'scheduler/dequeued': 24,\n",
      " 'scheduler/dequeued/memory': 24,\n",
      " 'scheduler/enqueued': 24,\n",
      " 'scheduler/enqueued/memory': 24,\n",
      " 'start_time': datetime.datetime(2019, 4, 4, 18, 8, 39, 667681)}\n",
      "2019-04-04 20:11:33 [scrapy.core.engine] INFO: Spider closed (shutdown)\n"
     ]
    }
   ],
   "source": [
    "process = CrawlerProcess({\n",
    "    'USER_AGENT': 'Mozilla/4.0 (compatible; MSIE 7.0; Windows NT 5.1)'\n",
    "})\n",
    "process.crawl(MyPaginatingSpider)\n",
    "process.start()"
   ]
  },
  {
   "cell_type": "code",
   "execution_count": null,
   "metadata": {},
   "outputs": [],
   "source": [
    "michal.korzycki@se.com"
   ]
  }
 ],
 "metadata": {
  "kernelspec": {
   "display_name": "Python 3",
   "language": "python",
   "name": "python3"
  },
  "language_info": {
   "codemirror_mode": {
    "name": "ipython",
    "version": 3
   },
   "file_extension": ".py",
   "mimetype": "text/x-python",
   "name": "python",
   "nbconvert_exporter": "python",
   "pygments_lexer": "ipython3",
   "version": "3.6.7"
  }
 },
 "nbformat": 4,
 "nbformat_minor": 2
}
